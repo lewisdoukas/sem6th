{
 "cells": [
  {
   "cell_type": "code",
   "execution_count": 1,
   "metadata": {},
   "outputs": [],
   "source": [
    "import geopandas as gpd\n",
    "import fiona\n",
    "from shapely.geometry import LineString\n",
    "\n",
    "fiona.supported_drivers['LIBKML'] = \"rw\""
   ]
  },
  {
   "cell_type": "code",
   "execution_count": 2,
   "metadata": {},
   "outputs": [],
   "source": [
    "def buffer(gdf, buffer_col_name):\n",
    "    return(gdf['geometry'].buffer(gdf[buffer_col_name]))\n",
    "\n",
    "\n",
    "def make_variable_buffer(input_df, buffer_col_name):\n",
    "    # Copying the input_df\n",
    "    buff_df = input_df.copy()\n",
    "    \n",
    "    # Creating the varying-sized buffer\n",
    "    buff_df['geometry'] = buff_df.apply(buffer, args= [buffer_col_name], axis= 1)\n",
    "    return(buff_df)"
   ]
  },
  {
   "cell_type": "code",
   "execution_count": 3,
   "metadata": {},
   "outputs": [],
   "source": [
    "# Read parsed log file\n",
    "df = gpd.read_file(\"parsed_log.csv\")"
   ]
  },
  {
   "cell_type": "code",
   "execution_count": 4,
   "metadata": {},
   "outputs": [],
   "source": [
    "# Convert dataframe to geodataframe and export to .shp \n",
    "gdf = gpd.GeoDataFrame(df, geometry= gpd.points_from_xy(df['Longitude'], df['Latitude'], crs= \"EPSG:4326\"))\n",
    "gdf['Accuracy'] = gdf['Accuracy'].astype(\"float64\")\n",
    "gdf.to_file(\"log_points.shp\")"
   ]
  },
  {
   "cell_type": "code",
   "execution_count": 5,
   "metadata": {},
   "outputs": [
    {
     "data": {
      "text/html": [
       "<div>\n",
       "<style scoped>\n",
       "    .dataframe tbody tr th:only-of-type {\n",
       "        vertical-align: middle;\n",
       "    }\n",
       "\n",
       "    .dataframe tbody tr th {\n",
       "        vertical-align: top;\n",
       "    }\n",
       "\n",
       "    .dataframe thead th {\n",
       "        text-align: right;\n",
       "    }\n",
       "</style>\n",
       "<table border=\"1\" class=\"dataframe\">\n",
       "  <thead>\n",
       "    <tr style=\"text-align: right;\">\n",
       "      <th></th>\n",
       "      <th>Accuracy</th>\n",
       "    </tr>\n",
       "  </thead>\n",
       "  <tbody>\n",
       "    <tr>\n",
       "      <th>count</th>\n",
       "      <td>600.000000</td>\n",
       "    </tr>\n",
       "    <tr>\n",
       "      <th>mean</th>\n",
       "      <td>2.059185</td>\n",
       "    </tr>\n",
       "    <tr>\n",
       "      <th>std</th>\n",
       "      <td>1.020670</td>\n",
       "    </tr>\n",
       "    <tr>\n",
       "      <th>min</th>\n",
       "      <td>1.000000</td>\n",
       "    </tr>\n",
       "    <tr>\n",
       "      <th>25%</th>\n",
       "      <td>1.816000</td>\n",
       "    </tr>\n",
       "    <tr>\n",
       "      <th>50%</th>\n",
       "      <td>1.900000</td>\n",
       "    </tr>\n",
       "    <tr>\n",
       "      <th>75%</th>\n",
       "      <td>1.980000</td>\n",
       "    </tr>\n",
       "    <tr>\n",
       "      <th>max</th>\n",
       "      <td>11.500000</td>\n",
       "    </tr>\n",
       "  </tbody>\n",
       "</table>\n",
       "</div>"
      ],
      "text/plain": [
       "         Accuracy\n",
       "count  600.000000\n",
       "mean     2.059185\n",
       "std      1.020670\n",
       "min      1.000000\n",
       "25%      1.816000\n",
       "50%      1.900000\n",
       "75%      1.980000\n",
       "max     11.500000"
      ]
     },
     "execution_count": 5,
     "metadata": {},
     "output_type": "execute_result"
    }
   ],
   "source": [
    "# Get statistics about the accuracy\n",
    "gdf.describe()"
   ]
  },
  {
   "cell_type": "code",
   "execution_count": 6,
   "metadata": {},
   "outputs": [],
   "source": [
    "# Reproject geodataframe to GGRS87\n",
    "gdf_ggrs87 = gdf.to_crs(crs= \"EPSG:2100\")"
   ]
  },
  {
   "cell_type": "code",
   "execution_count": 7,
   "metadata": {},
   "outputs": [],
   "source": [
    "# Create a buffered geodataframe based on accuracy attribute & export it to .shp\n",
    "buff_gdf = make_variable_buffer(gdf_ggrs87, \"Accuracy\")\n",
    "buff_gdf.to_file(\"buffer_log_points.shp\")"
   ]
  },
  {
   "cell_type": "code",
   "execution_count": 8,
   "metadata": {},
   "outputs": [],
   "source": [
    "# Export WGS84 geodataframe to kml for google earth\n",
    "gdf.to_file(\"log_points.kml\", driver= \"LIBKML\")"
   ]
  },
  {
   "cell_type": "code",
   "execution_count": 9,
   "metadata": {},
   "outputs": [],
   "source": [
    "# Convert GGRS87 geodataframe to line-string\n",
    "line_string = LineString(gdf_ggrs87['geometry'])\n",
    "line_gdf = gpd.GeoDataFrame([], columns=[\"line\"], crs= \"EPSG:2100\", geometry= [line_string])\n",
    "# line_gdf.to_file(\"log_line.shp\")"
   ]
  },
  {
   "cell_type": "code",
   "execution_count": 10,
   "metadata": {},
   "outputs": [],
   "source": [
    "# Export line geodataframe to .dxf for ktimanet\n",
    "line_gdf['geometry'].to_file(\"log_line.dxf\", driver= \"DXF\")"
   ]
  },
  {
   "cell_type": "code",
   "execution_count": null,
   "metadata": {},
   "outputs": [],
   "source": []
  }
 ],
 "metadata": {
  "kernelspec": {
   "display_name": "Python 3.9.2 64-bit ('Venv': conda)",
   "language": "python",
   "name": "python392jvsc74a57bd06351175d3d2da4de3792ea4d5386cc1659c36822b1f961452e86079a0ae72fda"
  },
  "language_info": {
   "codemirror_mode": {
    "name": "ipython",
    "version": 3
   },
   "file_extension": ".py",
   "mimetype": "text/x-python",
   "name": "python",
   "nbconvert_exporter": "python",
   "pygments_lexer": "ipython3",
   "version": "3.9.2"
  }
 },
 "nbformat": 4,
 "nbformat_minor": 4
}
